{
 "cells": [
  {
   "cell_type": "code",
   "execution_count": 1,
   "id": "218b03d4-3f77-4cab-a433-7ba005d56b97",
   "metadata": {},
   "outputs": [],
   "source": [
    "import mysql.connector"
   ]
  },
  {
   "cell_type": "code",
   "execution_count": 2,
   "id": "43f9853b-0664-4b3a-87d7-b2dcd72fb71c",
   "metadata": {},
   "outputs": [],
   "source": [
    "# Configura los detalles de tu conexión\n",
    "config = {\n",
    "    'user': 'admin',\n",
    "    'password': 'XXXXX',\n",
    "    'host': 'XXXXXX',\n",
    "    'database': 'UPSA'\n",
    "}\n"
   ]
  },
  {
   "cell_type": "code",
   "execution_count": 3,
   "id": "c444bce9-f49a-4c58-96c7-dc2871a6110a",
   "metadata": {},
   "outputs": [
    {
     "name": "stdout",
     "output_type": "stream",
     "text": [
      "Conexión exitosa\n"
     ]
    }
   ],
   "source": [
    "# Establece la conexión\n",
    "try:\n",
    "    conn = mysql.connector.connect(**config)\n",
    "    if conn.is_connected():\n",
    "        print(\"Conexión exitosa\")\n",
    "except mysql.connector.Error as err:\n",
    "    print(f\"Error: {err}\")\n",
    "\n"
   ]
  },
  {
   "cell_type": "code",
   "execution_count": 4,
   "id": "76f9135e-a4a3-423e-873e-117f6be3d53b",
   "metadata": {},
   "outputs": [
    {
     "name": "stdout",
     "output_type": "stream",
     "text": [
      "Tabla 1 creada exitosamente\n",
      "10 registros insertados exitosamente\n"
     ]
    }
   ],
   "source": [
    "# Crea las tablas en la Base de datos\n",
    "cursor = conn.cursor()\n",
    "create_table_query_1 = \"\"\"\n",
    "CREATE TABLE tabla_1 (\n",
    "    id INT AUTO_INCREMENT PRIMARY KEY,\n",
    "    nombre VARCHAR(100) NOT NULL,\n",
    "    edad INT,\n",
    "    ciudad VARCHAR(100)\n",
    ")\n",
    "\"\"\"\n",
    "\n",
    "insert_query = \"\"\"\n",
    "INSERT INTO tabla_1 (nombre, edad, ciudad)\n",
    "VALUES (%s, %s, %s)\n",
    "\"\"\"\n",
    "\n",
    "# Datos a insertar\n",
    "datos = [\n",
    "    ('Juan', 25, 'Madrid'),\n",
    "    ('Ana', 30, 'Barcelona'),\n",
    "    ('Luis', 22, 'Valencia'),\n",
    "    ('Marta', 28, 'Sevilla'),\n",
    "    ('Pedro', 35, 'Bilbao'),\n",
    "    ('Laura', 29, 'Valencia'),\n",
    "    ('Javier', 40, 'Madrid'),\n",
    "    ('Cristina', 27, 'Barcelona'),\n",
    "    ('Pablo', 33, 'Zaragoza'),\n",
    "    ('Isabel', 24, 'Bilbao') \n",
    "]\n",
    "\n",
    "\n",
    "try:\n",
    "    # Crea la tabla\n",
    "    cursor.execute(create_table_query_1)\n",
    "    print(\"Tabla 1 creada exitosamente\")\n",
    "    \n",
    "    # Puebla datos en la tabla\n",
    "    cursor.executemany(insert_query, datos)\n",
    "    conn.commit()\n",
    "    print(f\"{cursor.rowcount} registros insertados exitosamente\") \n",
    "except mysql.connector.Error as err:\n",
    "    print(f\"Error: {err}\")"
   ]
  },
  {
   "cell_type": "code",
   "execution_count": null,
   "id": "ad74cf94-f9e9-459d-ba16-98404733f5ad",
   "metadata": {},
   "outputs": [],
   "source": [
    "#Comprobamos los registros conectandonos a la DB"
   ]
  }
 ],
 "metadata": {
  "kernelspec": {
   "display_name": "Python 3 (ipykernel)",
   "language": "python",
   "name": "python3"
  },
  "language_info": {
   "codemirror_mode": {
    "name": "ipython",
    "version": 3
   },
   "file_extension": ".py",
   "mimetype": "text/x-python",
   "name": "python",
   "nbconvert_exporter": "python",
   "pygments_lexer": "ipython3",
   "version": "3.12.3"
  }
 },
 "nbformat": 4,
 "nbformat_minor": 5
}
