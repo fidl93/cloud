{
 "cells": [
  {
   "cell_type": "markdown",
   "metadata": {
    "application/vnd.databricks.v1+cell": {
     "cellMetadata": {},
     "inputWidgets": {},
     "nuid": "9de68fba-43f4-471f-884b-d948321583da",
     "showTitle": false,
     "tableResultSettingsMap": {},
     "title": ""
    }
   },
   "source": [
    "#Install mysql-connector"
   ]
  },
  {
   "cell_type": "markdown",
   "metadata": {
    "application/vnd.databricks.v1+cell": {
     "cellMetadata": {},
     "inputWidgets": {},
     "nuid": "1951c9d0-5364-472a-acb2-69ffe54bf260",
     "showTitle": false,
     "tableResultSettingsMap": {},
     "title": ""
    }
   },
   "source": [
    "#Database configuration"
   ]
  },
  {
   "cell_type": "code",
   "execution_count": null,
   "metadata": {
    "application/vnd.databricks.v1+cell": {
     "cellMetadata": {
      "byteLimit": 2048000,
      "rowLimit": 10000
     },
     "inputWidgets": {},
     "nuid": "f07823d0-2bb0-4ca3-b08d-b9252fe76aee",
     "showTitle": false,
     "tableResultSettingsMap": {},
     "title": ""
    }
   },
   "outputs": [],
   "source": [
    "import mysql.connector\n",
    "\n",
    "# Configura los detalles de tu conexión\n",
    "config = {\n",
    "    'user': 'root',\n",
    "    'password': '',\n",
    "    'host': '',\n",
    "    'database': 'eoi'\n",
    "}\n",
    "\n",
    "# Establece la conexión\n",
    "try:\n",
    "    conn = mysql.connector.connect(**config)\n",
    "    if conn.is_connected():\n",
    "        print(\"Conexión exitosa\")\n",
    "except mysql.connector.Error as err:\n",
    "    print(f\"Error: {err}\")\n"
   ]
  },
  {
   "cell_type": "markdown",
   "metadata": {
    "application/vnd.databricks.v1+cell": {
     "cellMetadata": {},
     "inputWidgets": {},
     "nuid": "689251ba-11c7-48e1-a725-5d9a46de68de",
     "showTitle": false,
     "tableResultSettingsMap": {},
     "title": ""
    }
   },
   "source": [
    "#Create Table and insert rows"
   ]
  },
  {
   "cell_type": "code",
   "execution_count": null,
   "metadata": {
    "application/vnd.databricks.v1+cell": {
     "cellMetadata": {
      "byteLimit": 2048000,
      "rowLimit": 10000
     },
     "inputWidgets": {},
     "nuid": "2ce33e80-b26b-4635-b629-201f7faa5794",
     "showTitle": false,
     "tableResultSettingsMap": {},
     "title": ""
    }
   },
   "outputs": [],
   "source": [
    "# Crea las tablas en la Base de datos\n",
    "cursor = conn.cursor()\n",
    "create_table_query_1 = \"\"\"\n",
    "CREATE TABLE tabla_1 (\n",
    "    id INT AUTO_INCREMENT PRIMARY KEY,\n",
    "    nombre VARCHAR(100) NOT NULL,\n",
    "    edad INT,\n",
    "    ciudad VARCHAR(100)\n",
    ")\n",
    "\"\"\"\n",
    "\n",
    "insert_query = \"\"\"\n",
    "INSERT INTO tabla_1 (nombre, edad, ciudad)\n",
    "VALUES (%s, %s, %s)\n",
    "\"\"\"\n",
    "\n",
    "# Datos a insertar\n",
    "datos = [\n",
    "    ('Juan', 25, 'Madrid'),\n",
    "    ('Ana', 30, 'Barcelona'),\n",
    "    ('Luis', 22, 'Valencia'),\n",
    "    ('Marta', 28, 'Sevilla'),\n",
    "    ('Pedro', 35, 'Bilbao'),\n",
    "    ('Laura', 29, 'Valencia'),\n",
    "    ('Javier', 40, 'Madrid'),\n",
    "    ('Cristina', 27, 'Barcelona'),\n",
    "    ('Pablo', 33, 'Zaragoza'),\n",
    "    ('Isabel', 24, 'Bilbao') \n",
    "]\n",
    "\n",
    "\n",
    "try:\n",
    "    # Crea la tabla\n",
    "    cursor.execute(create_table_query_1)\n",
    "    print(\"Tabla 1 creada exitosamente\")\n",
    "    \n",
    "    # Puebla datos en la tabla\n",
    "    cursor.executemany(insert_query, datos)\n",
    "    conn.commit()\n",
    "    print(f\"{cursor.rowcount} registros insertados exitosamente\") \n",
    "except mysql.connector.Error as err:\n",
    "    print(f\"Error: {err}\")\n",
    "    "
   ]
  },
  {
   "cell_type": "markdown",
   "metadata": {
    "application/vnd.databricks.v1+cell": {
     "cellMetadata": {},
     "inputWidgets": {},
     "nuid": "2cdc7573-9300-4a46-a156-6dca715fb2d8",
     "showTitle": false,
     "tableResultSettingsMap": {},
     "title": ""
    }
   },
   "source": [
    "#Close Connection"
   ]
  },
  {
   "cell_type": "code",
   "execution_count": null,
   "metadata": {
    "application/vnd.databricks.v1+cell": {
     "cellMetadata": {
      "byteLimit": 2048000,
      "rowLimit": 10000
     },
     "inputWidgets": {},
     "nuid": "b4af9040-d205-4197-b954-49996f448882",
     "showTitle": false,
     "tableResultSettingsMap": {},
     "title": ""
    }
   },
   "outputs": [],
   "source": [
    "cursor.close()\n",
    "conn.close()"
   ]
  },
  {
   "cell_type": "code",
   "execution_count": null,
   "metadata": {},
   "outputs": [],
   "source": []
  }
 ],
 "metadata": {
  "application/vnd.databricks.v1+notebook": {
   "dashboards": [],
   "environmentMetadata": {
    "base_environment": "",
    "client": "1"
   },
   "language": "python",
   "notebookMetadata": {
    "mostRecentlyExecutedCommandWithImplicitDF": {
     "commandId": 635522047873048,
     "dataframes": [
      "_sqldf"
     ]
    },
    "pythonIndentUnit": 4
   },
   "notebookName": "Database_model",
   "widgets": {}
  },
  "kernelspec": {
   "display_name": "Python 3 (ipykernel)",
   "language": "python",
   "name": "python3"
  },
  "language_info": {
   "codemirror_mode": {
    "name": "ipython",
    "version": 3
   },
   "file_extension": ".py",
   "mimetype": "text/x-python",
   "name": "python",
   "nbconvert_exporter": "python",
   "pygments_lexer": "ipython3",
   "version": "3.12.3"
  }
 },
 "nbformat": 4,
 "nbformat_minor": 4
}
