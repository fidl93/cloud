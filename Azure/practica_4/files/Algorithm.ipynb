{
 "cells": [
  {
   "cell_type": "markdown",
   "metadata": {
    "application/vnd.databricks.v1+cell": {
     "cellMetadata": {},
     "inputWidgets": {},
     "nuid": "47ca588a-c003-45d8-aa82-ba4e7710a950",
     "showTitle": false,
     "tableResultSettingsMap": {},
     "title": ""
    },
    "jupyter": {
     "outputs_hidden": true
    }
   },
   "source": [
    "#Configuramos las credenciales"
   ]
  },
  {
   "cell_type": "code",
   "execution_count": 0,
   "metadata": {
    "application/vnd.databricks.v1+cell": {
     "cellMetadata": {
      "byteLimit": 2048000,
      "rowLimit": 10000
     },
     "inputWidgets": {},
     "nuid": "21ad7e9a-8a55-4d78-b97c-d00c49086929",
     "showTitle": false,
     "tableResultSettingsMap": {},
     "title": ""
    }
   },
   "outputs": [],
   "source": [
    "%sh\n",
    "mkdir /mnt/datasets"
   ]
  },
  {
   "cell_type": "code",
   "execution_count": 0,
   "metadata": {
    "application/vnd.databricks.v1+cell": {
     "cellMetadata": {
      "byteLimit": 2048000,
      "rowLimit": 10000
     },
     "inputWidgets": {},
     "nuid": "6759440d-77ff-41ab-abd6-8f891db9baf4",
     "showTitle": false,
     "tableResultSettingsMap": {},
     "title": ""
    },
    "jupyter": {
     "outputs_hidden": true
    }
   },
   "outputs": [],
   "source": [
    "# Configura las credenciales de Azure\n",
    "storage_account_name = \"testaz2611242sa\"\n",
    "container_name = \"datasets\"\n",
    "sas_token = \"sv=2022-11-02&ss=bfqt&srt=sco&sp=rwdlacupiytfx&se=2024-11-26T19:41:32Z&st=2024-11-26T11:41:32Z&spr=https&sig=i36fmoRJhh9I%2BB9ZPhCGrCEgeBpU4R%2BNc%2FDVPDXBK9I%3D\"\n",
    "\n",
    "# Ruta del punto de montaje\n",
    "mount_point = \"/mnt/datasets\""
   ]
  },
  {
   "cell_type": "markdown",
   "metadata": {
    "application/vnd.databricks.v1+cell": {
     "cellMetadata": {},
     "inputWidgets": {},
     "nuid": "aee9f01c-a7ea-4cfa-b3cf-8212b7905173",
     "showTitle": false,
     "tableResultSettingsMap": {},
     "title": ""
    }
   },
   "source": [
    "#Montar el contenedor"
   ]
  },
  {
   "cell_type": "code",
   "execution_count": 0,
   "metadata": {
    "application/vnd.databricks.v1+cell": {
     "cellMetadata": {
      "byteLimit": 2048000,
      "rowLimit": 10000
     },
     "inputWidgets": {},
     "nuid": "a526e035-1220-45a5-b7b6-b75c2859aa15",
     "showTitle": false,
     "tableResultSettingsMap": {},
     "title": ""
    }
   },
   "outputs": [
    {
     "output_type": "stream",
     "name": "stdout",
     "output_type": "stream",
     "text": [
      "/mnt/datasets has been unmounted.\n"
     ]
    },
    {
     "output_type": "display_data",
     "data": {
      "text/html": [
       "<style scoped>\n",
       "  .table-result-container {\n",
       "    max-height: 300px;\n",
       "    overflow: auto;\n",
       "  }\n",
       "  table, th, td {\n",
       "    border: 1px solid black;\n",
       "    border-collapse: collapse;\n",
       "  }\n",
       "  th, td {\n",
       "    padding: 5px;\n",
       "  }\n",
       "  th {\n",
       "    text-align: left;\n",
       "  }\n",
       "</style><div class='table-result-container'><table class='table-result'><thead style='background-color: white'><tr><th>path</th><th>name</th><th>size</th><th>modificationTime</th></tr></thead><tbody><tr><td>dbfs:/mnt/datasets/dataset2.csv</td><td>dataset2.csv</td><td>186</td><td>1732618327000</td></tr></tbody></table></div>"
      ]
     },
     "metadata": {
      "application/vnd.databricks.v1+output": {
       "addedWidgets": {},
       "aggData": [],
       "aggError": "",
       "aggOverflow": false,
       "aggSchema": [],
       "aggSeriesLimitReached": false,
       "aggType": "",
       "arguments": {},
       "columnCustomDisplayInfos": {},
       "data": [
        [
         "dbfs:/mnt/datasets/dataset2.csv",
         "dataset2.csv",
         186,
         1732618327000
        ]
       ],
       "datasetInfos": [],
       "dbfsResultPath": null,
       "isJsonSchema": true,
       "metadata": {},
       "overflow": false,
       "plotOptions": {
        "customPlotOptions": {},
        "displayType": "table",
        "pivotAggregation": null,
        "pivotColumns": null,
        "xColumns": null,
        "yColumns": null
       },
       "removedWidgets": [],
       "schema": [
        {
         "metadata": "{}",
         "name": "path",
         "type": "\"string\""
        },
        {
         "metadata": "{}",
         "name": "name",
         "type": "\"string\""
        },
        {
         "metadata": "{}",
         "name": "size",
         "type": "\"long\""
        },
        {
         "metadata": "{}",
         "name": "modificationTime",
         "type": "\"long\""
        }
       ],
       "type": "table"
      }
     },
     "output_type": "display_data"
    }
   ],
   "source": [
    "# Desmontar si ya existe un punto de montaje en la misma ruta\n",
    "if any(mount.mountPoint == mount_point for mount in dbutils.fs.mounts()):\n",
    "    dbutils.fs.unmount(mount_point)\n",
    "\n",
    "# Montar el contenedor\n",
    "dbutils.fs.mount(\n",
    "    source = f\"wasbs://{container_name}@{storage_account_name}.blob.core.windows.net\",\n",
    "    mount_point = mount_point,\n",
    "    extra_configs = {f\"fs.azure.sas.{container_name}.{storage_account_name}.blob.core.windows.net\": sas_token}\n",
    ")\n",
    "\n",
    "# Verificar el montaje\n",
    "display(dbutils.fs.ls(mount_point))"
   ]
  },
  {
   "cell_type": "markdown",
   "metadata": {
    "application/vnd.databricks.v1+cell": {
     "cellMetadata": {},
     "inputWidgets": {},
     "nuid": "09aeb876-b6a4-4f9c-834c-6d5ccab86601",
     "showTitle": false,
     "tableResultSettingsMap": {},
     "title": ""
    }
   },
   "source": [
    "#Read csv file from storage"
   ]
  },
  {
   "cell_type": "code",
   "execution_count": 0,
   "metadata": {
    "application/vnd.databricks.v1+cell": {
     "cellMetadata": {
      "byteLimit": 2048000,
      "rowLimit": 10000
     },
     "inputWidgets": {},
     "nuid": "ffae0cd4-fe99-4543-ac18-96e7b0c3857d",
     "showTitle": false,
     "tableResultSettingsMap": {},
     "title": ""
    }
   },
   "outputs": [
    {
     "output_type": "display_data",
     "data": {
      "text/html": [
       "<style scoped>\n",
       "  .table-result-container {\n",
       "    max-height: 300px;\n",
       "    overflow: auto;\n",
       "  }\n",
       "  table, th, td {\n",
       "    border: 1px solid black;\n",
       "    border-collapse: collapse;\n",
       "  }\n",
       "  th, td {\n",
       "    padding: 5px;\n",
       "  }\n",
       "  th {\n",
       "    text-align: left;\n",
       "  }\n",
       "</style><div class='table-result-container'><table class='table-result'><thead style='background-color: white'><tr><th>ID</th><th>Producto</th><th>Precio</th><th>Ciudad</th></tr></thead><tbody><tr><td>1</td><td>Laptop</td><td>800</td><td>Madrid</td></tr><tr><td>2</td><td>Smartphone</td><td>500</td><td>Barcelona</td></tr><tr><td>3</td><td>Tablet</td><td>250</td><td>Valencia</td></tr><tr><td>4</td><td>Monitor</td><td>150</td><td>Sevilla</td></tr><tr><td>5</td><td>Teclado</td><td>40</td><td>Bilbao</td></tr><tr><td>6</td><td>Auriculares</td><td>30</td><td>Valencia</td></tr><tr><td>7</td><td>Impresora</td><td>120</td><td>Madrid</td></tr></tbody></table></div>"
      ]
     },
     "metadata": {
      "application/vnd.databricks.v1+output": {
       "addedWidgets": {},
       "aggData": [],
       "aggError": "",
       "aggOverflow": false,
       "aggSchema": [],
       "aggSeriesLimitReached": false,
       "aggType": "",
       "arguments": {},
       "columnCustomDisplayInfos": {},
       "data": [
        [
         1,
         "Laptop",
         800,
         "Madrid"
        ],
        [
         2,
         "Smartphone",
         500,
         "Barcelona"
        ],
        [
         3,
         "Tablet",
         250,
         "Valencia"
        ],
        [
         4,
         "Monitor",
         150,
         "Sevilla"
        ],
        [
         5,
         "Teclado",
         40,
         "Bilbao"
        ],
        [
         6,
         "Auriculares",
         30,
         "Valencia"
        ],
        [
         7,
         "Impresora",
         120,
         "Madrid"
        ]
       ],
       "datasetInfos": [],
       "dbfsResultPath": null,
       "isJsonSchema": true,
       "metadata": {},
       "overflow": false,
       "plotOptions": {
        "customPlotOptions": {},
        "displayType": "table",
        "pivotAggregation": null,
        "pivotColumns": null,
        "xColumns": null,
        "yColumns": null
       },
       "removedWidgets": [],
       "schema": [
        {
         "metadata": "{}",
         "name": "ID",
         "type": "\"integer\""
        },
        {
         "metadata": "{}",
         "name": "Producto",
         "type": "\"string\""
        },
        {
         "metadata": "{}",
         "name": "Precio",
         "type": "\"integer\""
        },
        {
         "metadata": "{}",
         "name": "Ciudad",
         "type": "\"string\""
        }
       ],
       "type": "table"
      }
     },
     "output_type": "display_data"
    }
   ],
   "source": [
    "csv = spark.read.csv(\"dbfs:/mnt/datasets/dataset2.csv\", header=True, inferSchema=True)\n",
    "display(csv)"
   ]
  },
  {
   "cell_type": "markdown",
   "metadata": {
    "application/vnd.databricks.v1+cell": {
     "cellMetadata": {},
     "inputWidgets": {},
     "nuid": "01e3d821-e463-4742-a490-69a08899b183",
     "showTitle": false,
     "tableResultSettingsMap": {},
     "title": ""
    }
   },
   "source": [
    "#Read remote_table"
   ]
  },
  {
   "cell_type": "code",
   "execution_count": 0,
   "metadata": {
    "application/vnd.databricks.v1+cell": {
     "cellMetadata": {
      "byteLimit": 2048000,
      "rowLimit": 10000
     },
     "inputWidgets": {},
     "nuid": "6d7d401f-7221-4510-8036-151e3d7d1a15",
     "showTitle": false,
     "tableResultSettingsMap": {},
     "title": ""
    }
   },
   "outputs": [
    {
     "output_type": "display_data",
     "data": {
      "text/html": [
       "<style scoped>\n",
       "  .table-result-container {\n",
       "    max-height: 300px;\n",
       "    overflow: auto;\n",
       "  }\n",
       "  table, th, td {\n",
       "    border: 1px solid black;\n",
       "    border-collapse: collapse;\n",
       "  }\n",
       "  th, td {\n",
       "    padding: 5px;\n",
       "  }\n",
       "  th {\n",
       "    text-align: left;\n",
       "  }\n",
       "</style><div class='table-result-container'><table class='table-result'><thead style='background-color: white'><tr><th>id</th><th>nombre</th><th>edad</th><th>ciudad</th></tr></thead><tbody><tr><td>1</td><td>Juan</td><td>25</td><td>Madrid</td></tr><tr><td>2</td><td>Ana</td><td>30</td><td>Barcelona</td></tr><tr><td>3</td><td>Luis</td><td>22</td><td>Valencia</td></tr><tr><td>4</td><td>Marta</td><td>28</td><td>Sevilla</td></tr><tr><td>5</td><td>Pedro</td><td>35</td><td>Bilbao</td></tr><tr><td>6</td><td>Laura</td><td>29</td><td>Valencia</td></tr><tr><td>7</td><td>Javier</td><td>40</td><td>Madrid</td></tr><tr><td>8</td><td>Cristina</td><td>27</td><td>Barcelona</td></tr><tr><td>9</td><td>Pablo</td><td>33</td><td>Zaragoza</td></tr><tr><td>10</td><td>Isabel</td><td>24</td><td>Bilbao</td></tr></tbody></table></div>"
      ]
     },
     "metadata": {
      "application/vnd.databricks.v1+output": {
       "addedWidgets": {},
       "aggData": [],
       "aggError": "",
       "aggOverflow": false,
       "aggSchema": [],
       "aggSeriesLimitReached": false,
       "aggType": "",
       "arguments": {},
       "columnCustomDisplayInfos": {},
       "data": [
        [
         1,
         "Juan",
         25,
         "Madrid"
        ],
        [
         2,
         "Ana",
         30,
         "Barcelona"
        ],
        [
         3,
         "Luis",
         22,
         "Valencia"
        ],
        [
         4,
         "Marta",
         28,
         "Sevilla"
        ],
        [
         5,
         "Pedro",
         35,
         "Bilbao"
        ],
        [
         6,
         "Laura",
         29,
         "Valencia"
        ],
        [
         7,
         "Javier",
         40,
         "Madrid"
        ],
        [
         8,
         "Cristina",
         27,
         "Barcelona"
        ],
        [
         9,
         "Pablo",
         33,
         "Zaragoza"
        ],
        [
         10,
         "Isabel",
         24,
         "Bilbao"
        ]
       ],
       "datasetInfos": [],
       "dbfsResultPath": null,
       "isJsonSchema": true,
       "metadata": {},
       "overflow": false,
       "plotOptions": {
        "customPlotOptions": {},
        "displayType": "table",
        "pivotAggregation": null,
        "pivotColumns": null,
        "xColumns": null,
        "yColumns": null
       },
       "removedWidgets": [],
       "schema": [
        {
         "metadata": "{\"isTimestampNTZ\":false,\"signed\":true,\"scale\":0}",
         "name": "id",
         "type": "\"integer\""
        },
        {
         "metadata": "{\"isTimestampNTZ\":false,\"__CHAR_VARCHAR_TYPE_STRING\":\"varchar(100)\",\"signed\":true,\"scale\":0}",
         "name": "nombre",
         "type": "\"string\""
        },
        {
         "metadata": "{\"isTimestampNTZ\":false,\"signed\":true,\"scale\":0}",
         "name": "edad",
         "type": "\"integer\""
        },
        {
         "metadata": "{\"isTimestampNTZ\":false,\"__CHAR_VARCHAR_TYPE_STRING\":\"varchar(100)\",\"signed\":true,\"scale\":0}",
         "name": "ciudad",
         "type": "\"string\""
        }
       ],
       "type": "table"
      }
     },
     "output_type": "display_data"
    }
   ],
   "source": [
    "remote_table = (spark.read\n",
    "  .format(\"mysql\")\n",
    "  .option(\"dbtable\", \"tabla_1\")\n",
    "  .option(\"host\", \"testaz2611242sqldb.mysql.database.azure.com\")\n",
    "  .option(\"port\", \"3306\") # Optional - will use default port 3306 if not specified.\n",
    "  .option(\"database\", \"eoi\")\n",
    "  .option(\"user\", \"adminsql\")\n",
    "  .option(\"password\", \"Pa55w.rd1234\")\n",
    "  .option(\"useSSL\", \"true\")\n",
    "  .load()\n",
    ")\n",
    "\n",
    "display(remote_table)"
   ]
  },
  {
   "cell_type": "code",
   "execution_count": 0,
   "metadata": {
    "application/vnd.databricks.v1+cell": {
     "cellMetadata": {
      "byteLimit": 2048000,
      "rowLimit": 10000
     },
     "inputWidgets": {},
     "nuid": "2f22d1d7-e601-4856-8d3d-b4df70508c11",
     "showTitle": false,
     "tableResultSettingsMap": {},
     "title": ""
    }
   },
   "outputs": [
    {
     "output_type": "display_data",
     "data": {
      "text/html": [
       "<style scoped>\n",
       "  .table-result-container {\n",
       "    max-height: 300px;\n",
       "    overflow: auto;\n",
       "  }\n",
       "  table, th, td {\n",
       "    border: 1px solid black;\n",
       "    border-collapse: collapse;\n",
       "  }\n",
       "  th, td {\n",
       "    padding: 5px;\n",
       "  }\n",
       "  th {\n",
       "    text-align: left;\n",
       "  }\n",
       "</style><div class='table-result-container'><table class='table-result'><thead style='background-color: white'><tr><th>id</th><th>nombre</th><th>edad</th><th>ciudad</th><th>ID</th><th>Producto</th><th>Precio</th><th>Ciudad</th></tr></thead><tbody><tr><td>1</td><td>Juan</td><td>25</td><td>Madrid</td><td>7</td><td>Impresora</td><td>120</td><td>Madrid</td></tr><tr><td>1</td><td>Juan</td><td>25</td><td>Madrid</td><td>1</td><td>Laptop</td><td>800</td><td>Madrid</td></tr><tr><td>2</td><td>Ana</td><td>30</td><td>Barcelona</td><td>2</td><td>Smartphone</td><td>500</td><td>Barcelona</td></tr><tr><td>3</td><td>Luis</td><td>22</td><td>Valencia</td><td>6</td><td>Auriculares</td><td>30</td><td>Valencia</td></tr><tr><td>3</td><td>Luis</td><td>22</td><td>Valencia</td><td>3</td><td>Tablet</td><td>250</td><td>Valencia</td></tr><tr><td>4</td><td>Marta</td><td>28</td><td>Sevilla</td><td>4</td><td>Monitor</td><td>150</td><td>Sevilla</td></tr><tr><td>5</td><td>Pedro</td><td>35</td><td>Bilbao</td><td>5</td><td>Teclado</td><td>40</td><td>Bilbao</td></tr><tr><td>6</td><td>Laura</td><td>29</td><td>Valencia</td><td>6</td><td>Auriculares</td><td>30</td><td>Valencia</td></tr><tr><td>6</td><td>Laura</td><td>29</td><td>Valencia</td><td>3</td><td>Tablet</td><td>250</td><td>Valencia</td></tr><tr><td>7</td><td>Javier</td><td>40</td><td>Madrid</td><td>7</td><td>Impresora</td><td>120</td><td>Madrid</td></tr><tr><td>7</td><td>Javier</td><td>40</td><td>Madrid</td><td>1</td><td>Laptop</td><td>800</td><td>Madrid</td></tr><tr><td>8</td><td>Cristina</td><td>27</td><td>Barcelona</td><td>2</td><td>Smartphone</td><td>500</td><td>Barcelona</td></tr><tr><td>10</td><td>Isabel</td><td>24</td><td>Bilbao</td><td>5</td><td>Teclado</td><td>40</td><td>Bilbao</td></tr></tbody></table></div>"
      ]
     },
     "metadata": {
      "application/vnd.databricks.v1+output": {
       "addedWidgets": {},
       "aggData": [],
       "aggError": "",
       "aggOverflow": false,
       "aggSchema": [],
       "aggSeriesLimitReached": false,
       "aggType": "",
       "arguments": {},
       "columnCustomDisplayInfos": {},
       "data": [
        [
         1,
         "Juan",
         25,
         "Madrid",
         7,
         "Impresora",
         120,
         "Madrid"
        ],
        [
         1,
         "Juan",
         25,
         "Madrid",
         1,
         "Laptop",
         800,
         "Madrid"
        ],
        [
         2,
         "Ana",
         30,
         "Barcelona",
         2,
         "Smartphone",
         500,
         "Barcelona"
        ],
        [
         3,
         "Luis",
         22,
         "Valencia",
         6,
         "Auriculares",
         30,
         "Valencia"
        ],
        [
         3,
         "Luis",
         22,
         "Valencia",
         3,
         "Tablet",
         250,
         "Valencia"
        ],
        [
         4,
         "Marta",
         28,
         "Sevilla",
         4,
         "Monitor",
         150,
         "Sevilla"
        ],
        [
         5,
         "Pedro",
         35,
         "Bilbao",
         5,
         "Teclado",
         40,
         "Bilbao"
        ],
        [
         6,
         "Laura",
         29,
         "Valencia",
         6,
         "Auriculares",
         30,
         "Valencia"
        ],
        [
         6,
         "Laura",
         29,
         "Valencia",
         3,
         "Tablet",
         250,
         "Valencia"
        ],
        [
         7,
         "Javier",
         40,
         "Madrid",
         7,
         "Impresora",
         120,
         "Madrid"
        ],
        [
         7,
         "Javier",
         40,
         "Madrid",
         1,
         "Laptop",
         800,
         "Madrid"
        ],
        [
         8,
         "Cristina",
         27,
         "Barcelona",
         2,
         "Smartphone",
         500,
         "Barcelona"
        ],
        [
         10,
         "Isabel",
         24,
         "Bilbao",
         5,
         "Teclado",
         40,
         "Bilbao"
        ]
       ],
       "datasetInfos": [],
       "dbfsResultPath": null,
       "isJsonSchema": true,
       "metadata": {},
       "overflow": false,
       "plotOptions": {
        "customPlotOptions": {},
        "displayType": "table",
        "pivotAggregation": null,
        "pivotColumns": null,
        "xColumns": null,
        "yColumns": null
       },
       "removedWidgets": [],
       "schema": [
        {
         "metadata": "{\"isTimestampNTZ\":false,\"signed\":true,\"scale\":0}",
         "name": "id",
         "type": "\"integer\""
        },
        {
         "metadata": "{\"isTimestampNTZ\":false,\"__CHAR_VARCHAR_TYPE_STRING\":\"varchar(100)\",\"signed\":true,\"scale\":0}",
         "name": "nombre",
         "type": "\"string\""
        },
        {
         "metadata": "{\"isTimestampNTZ\":false,\"signed\":true,\"scale\":0}",
         "name": "edad",
         "type": "\"integer\""
        },
        {
         "metadata": "{\"isTimestampNTZ\":false,\"__CHAR_VARCHAR_TYPE_STRING\":\"varchar(100)\",\"signed\":true,\"scale\":0}",
         "name": "ciudad",
         "type": "\"string\""
        },
        {
         "metadata": "{}",
         "name": "ID",
         "type": "\"integer\""
        },
        {
         "metadata": "{}",
         "name": "Producto",
         "type": "\"string\""
        },
        {
         "metadata": "{}",
         "name": "Precio",
         "type": "\"integer\""
        },
        {
         "metadata": "{}",
         "name": "Ciudad",
         "type": "\"string\""
        }
       ],
       "type": "table"
      }
     },
     "output_type": "display_data"
    }
   ],
   "source": [
    "display(remote_table.join(csv, remote_table.ciudad == csv.Ciudad))"
   ]
  }
 ],
 "metadata": {
  "application/vnd.databricks.v1+notebook": {
   "dashboards": [],
   "environmentMetadata": {
    "base_environment": "",
    "client": "1"
   },
   "language": "python",
   "notebookMetadata": {
    "mostRecentlyExecutedCommandWithImplicitDF": {
     "commandId": 4439855414873168,
     "dataframes": [
      "_sqldf"
     ]
    },
    "pythonIndentUnit": 4
   },
   "notebookName": "Algorithm",
   "widgets": {}
  },
  "language_info": {
   "name": "python"
  }
 },
 "nbformat": 4,
 "nbformat_minor": 0
}